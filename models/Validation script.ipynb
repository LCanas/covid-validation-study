{
 "cells": [
  {
   "cell_type": "code",
   "execution_count": 23,
   "metadata": {},
   "outputs": [],
   "source": [
    "import pandas as pd\n",
    "from joblib import load\n",
    "from sklearn.metrics import accuracy_score, roc_auc_score, classification_report, precision_score, recall_score,f1_score, roc_curve\n",
    "from sklearn.utils import resample"
   ]
  },
  {
   "cell_type": "code",
   "execution_count": 24,
   "metadata": {},
   "outputs": [],
   "source": [
    "# Get sensitivity and specificity scores\n",
    "def sens_spec(y, yp):\n",
    "    return recall_score(y,yp), classification_report(y, yp, output_dict=True)['False']['recall']"
   ]
  },
  {
   "cell_type": "code",
   "execution_count": 25,
   "metadata": {},
   "outputs": [],
   "source": [
    "# Map probability to 4-category classifier\n",
    "def mapping(x):\n",
    "    if x >= thresholds[idx_high_spec]:\n",
    "        return 4\n",
    "    elif  (x < thresholds[idx_high_spec]) & (x >= thresholds[idx_optimal]):\n",
    "        return 3\n",
    "    elif  (x < thresholds[idx_optimal]) & (x >= thresholds[idx_high_sens]):\n",
    "        return 2\n",
    "    else:\n",
    "        return 1      "
   ]
  },
  {
   "cell_type": "code",
   "execution_count": 26,
   "metadata": {},
   "outputs": [],
   "source": [
    "# Load test data - replace csv with the validation file\n",
    "test_df = pd.read_csv('../../covid-early-detection/data/NewlyTested_Upto090520.csv', index_col=0).reset_index(drop=True).drop(columns='unusual_muscle_pains')\n",
    "test_df['max_test'] = test_df.max_test.map({1:False,2:True})"
   ]
  },
  {
   "cell_type": "code",
   "execution_count": 27,
   "metadata": {},
   "outputs": [],
   "source": [
    "REPS = 50\n",
    "TARGET = ['max_test']"
   ]
  },
  {
   "cell_type": "markdown",
   "metadata": {},
   "source": [
    "## 48 hours predictions"
   ]
  },
  {
   "cell_type": "code",
   "execution_count": 28,
   "metadata": {},
   "outputs": [],
   "source": [
    "N = 2"
   ]
  },
  {
   "cell_type": "code",
   "execution_count": 29,
   "metadata": {},
   "outputs": [],
   "source": [
    "two_days_test_df = test_df.groupby('patient_id').filter(lambda x: len(x)==N).reset_index(drop=True)"
   ]
  },
  {
   "cell_type": "code",
   "execution_count": 30,
   "metadata": {},
   "outputs": [],
   "source": [
    "clf, idx_optimal, idx_high_sens, idx_high_spec, thresholds, fpr, tpr, FEATURES, ALL_SYMPTOMS, PAT_FEATURES = load('./Grouped_RF_2_12_05.joblib')"
   ]
  },
  {
   "cell_type": "code",
   "execution_count": 31,
   "metadata": {},
   "outputs": [],
   "source": [
    "grouped_test_df = pd.concat([two_days_test_df.groupby('patient_id')[ALL_SYMPTOMS].agg(lambda x:x.sum()/N),\n",
    "                             two_days_test_df.groupby('patient_id')[PAT_FEATURES+TARGET].mean()], axis=1).reset_index(drop=True)"
   ]
  },
  {
   "cell_type": "code",
   "execution_count": null,
   "metadata": {},
   "outputs": [],
   "source": []
  },
  {
   "cell_type": "code",
   "execution_count": 32,
   "metadata": {},
   "outputs": [],
   "source": [
    "auc_vals = []\n",
    "sens_vals = []\n",
    "spec_vals = []\n",
    "cl_types = []\n",
    "res_list = []\n",
    "\n",
    "for r in range(REPS):\n",
    "    \n",
    "    ids = resample(grouped_test_df.index.unique())\n",
    "    X_test = grouped_test_df.loc[grouped_test_df.index.isin(ids), FEATURES]\n",
    "    y_test = grouped_test_df.loc[grouped_test_df.index.isin(ids), TARGET].values[:,0]\n",
    "    X_test.loc[:,'p_predicted_covid'] = clf.predict_proba(X_test.loc[:, FEATURES])[:,1]\n",
    "\n",
    "    for cl_type, idx in zip(['optimal','high sensitivity', 'high specificity'], [idx_optimal, idx_high_sens, idx_high_spec]):\n",
    "        \n",
    "        X_test.loc[:,'predicted_covid'] = X_test.loc[:,'p_predicted_covid'] >thresholds[idx]\n",
    "        \n",
    "        predicted_covid = X_test.predicted_covid\n",
    "        p_predicted_covid = X_test.p_predicted_covid\n",
    "        true_y =  y_test\n",
    "        cl_types.append(cl_type)\n",
    "        auc_vals.append(roc_auc_score(true_y, p_predicted_covid))\n",
    "        sens_val, spec_val = sens_spec(true_y, predicted_covid)\n",
    "        sens_vals.append(sens_val)\n",
    "        spec_vals.append(spec_val)\n",
    "    \n",
    "    X_test.loc[:,'4cat_predicted_covid'] = list(map(lambda x: mapping(x), X_test.loc[:,'p_predicted_covid']))\n",
    "    aux_df = pd.concat([X_test.reset_index(drop=True), pd.DataFrame(y_test,columns=['swab_test'])], axis=1)\n",
    "    res_list.append(aux_df.groupby(['4cat_predicted_covid','swab_test']).size().reset_index().pivot_table(index='4cat_predicted_covid',columns='swab_test',values=0))\n",
    "\n",
    "\n",
    "aux_df = pd.DataFrame({'cl_type':cl_types, 'Sensitivity': sens_vals, 'Specificity': spec_vals})\n",
    "results_1_df = aux_df.groupby(['cl_type'])[['Sensitivity','Specificity']].agg(['mean','std']).reset_index()\n",
    "results_2_df = pd.concat(res_list, axis=0).groupby('4cat_predicted_covid').mean()"
   ]
  },
  {
   "cell_type": "code",
   "execution_count": 33,
   "metadata": {},
   "outputs": [
    {
     "data": {
      "text/html": [
       "<div>\n",
       "<style scoped>\n",
       "    .dataframe tbody tr th:only-of-type {\n",
       "        vertical-align: middle;\n",
       "    }\n",
       "\n",
       "    .dataframe tbody tr th {\n",
       "        vertical-align: top;\n",
       "    }\n",
       "\n",
       "    .dataframe thead tr th {\n",
       "        text-align: left;\n",
       "    }\n",
       "</style>\n",
       "<table border=\"1\" class=\"dataframe\">\n",
       "  <thead>\n",
       "    <tr>\n",
       "      <th></th>\n",
       "      <th>cl_type</th>\n",
       "      <th colspan=\"2\" halign=\"left\">Sensitivity</th>\n",
       "      <th colspan=\"2\" halign=\"left\">Specificity</th>\n",
       "    </tr>\n",
       "    <tr>\n",
       "      <th></th>\n",
       "      <th></th>\n",
       "      <th>mean</th>\n",
       "      <th>std</th>\n",
       "      <th>mean</th>\n",
       "      <th>std</th>\n",
       "    </tr>\n",
       "  </thead>\n",
       "  <tbody>\n",
       "    <tr>\n",
       "      <th>0</th>\n",
       "      <td>high sensitivity</td>\n",
       "      <td>0.636728</td>\n",
       "      <td>0.062033</td>\n",
       "      <td>0.721405</td>\n",
       "      <td>0.009351</td>\n",
       "    </tr>\n",
       "    <tr>\n",
       "      <th>1</th>\n",
       "      <td>high specificity</td>\n",
       "      <td>0.140368</td>\n",
       "      <td>0.046178</td>\n",
       "      <td>0.985019</td>\n",
       "      <td>0.002789</td>\n",
       "    </tr>\n",
       "    <tr>\n",
       "      <th>2</th>\n",
       "      <td>optimal</td>\n",
       "      <td>0.165415</td>\n",
       "      <td>0.051843</td>\n",
       "      <td>0.966559</td>\n",
       "      <td>0.004352</td>\n",
       "    </tr>\n",
       "  </tbody>\n",
       "</table>\n",
       "</div>"
      ],
      "text/plain": [
       "            cl_type Sensitivity           Specificity          \n",
       "                           mean       std        mean       std\n",
       "0  high sensitivity    0.636728  0.062033    0.721405  0.009351\n",
       "1  high specificity    0.140368  0.046178    0.985019  0.002789\n",
       "2           optimal    0.165415  0.051843    0.966559  0.004352"
      ]
     },
     "execution_count": 33,
     "metadata": {},
     "output_type": "execute_result"
    }
   ],
   "source": [
    "results_1_df"
   ]
  },
  {
   "cell_type": "code",
   "execution_count": 34,
   "metadata": {},
   "outputs": [
    {
     "data": {
      "text/html": [
       "<div>\n",
       "<style scoped>\n",
       "    .dataframe tbody tr th:only-of-type {\n",
       "        vertical-align: middle;\n",
       "    }\n",
       "\n",
       "    .dataframe tbody tr th {\n",
       "        vertical-align: top;\n",
       "    }\n",
       "\n",
       "    .dataframe thead th {\n",
       "        text-align: right;\n",
       "    }\n",
       "</style>\n",
       "<table border=\"1\" class=\"dataframe\">\n",
       "  <thead>\n",
       "    <tr style=\"text-align: right;\">\n",
       "      <th>swab_test</th>\n",
       "      <th>False</th>\n",
       "      <th>True</th>\n",
       "    </tr>\n",
       "    <tr>\n",
       "      <th>4cat_predicted_covid</th>\n",
       "      <th></th>\n",
       "      <th></th>\n",
       "    </tr>\n",
       "  </thead>\n",
       "  <tbody>\n",
       "    <tr>\n",
       "      <th>1</th>\n",
       "      <td>69.982881</td>\n",
       "      <td>1.069293</td>\n",
       "    </tr>\n",
       "    <tr>\n",
       "      <th>2</th>\n",
       "      <td>23.782470</td>\n",
       "      <td>1.384375</td>\n",
       "    </tr>\n",
       "    <tr>\n",
       "      <th>3</th>\n",
       "      <td>1.791252</td>\n",
       "      <td>0.124048</td>\n",
       "    </tr>\n",
       "    <tr>\n",
       "      <th>4</th>\n",
       "      <td>1.453842</td>\n",
       "      <td>0.411839</td>\n",
       "    </tr>\n",
       "  </tbody>\n",
       "</table>\n",
       "</div>"
      ],
      "text/plain": [
       "swab_test                 False     True \n",
       "4cat_predicted_covid                     \n",
       "1                     69.982881  1.069293\n",
       "2                     23.782470  1.384375\n",
       "3                      1.791252  0.124048\n",
       "4                      1.453842  0.411839"
      ]
     },
     "execution_count": 34,
     "metadata": {},
     "output_type": "execute_result"
    }
   ],
   "source": [
    "results_2_df/results_2_df.sum().sum()*100"
   ]
  },
  {
   "cell_type": "code",
   "execution_count": 35,
   "metadata": {},
   "outputs": [
    {
     "data": {
      "text/html": [
       "<div>\n",
       "<style scoped>\n",
       "    .dataframe tbody tr th:only-of-type {\n",
       "        vertical-align: middle;\n",
       "    }\n",
       "\n",
       "    .dataframe tbody tr th {\n",
       "        vertical-align: top;\n",
       "    }\n",
       "\n",
       "    .dataframe thead th {\n",
       "        text-align: right;\n",
       "    }\n",
       "</style>\n",
       "<table border=\"1\" class=\"dataframe\">\n",
       "  <thead>\n",
       "    <tr style=\"text-align: right;\">\n",
       "      <th>swab_test</th>\n",
       "      <th>False</th>\n",
       "      <th>True</th>\n",
       "    </tr>\n",
       "    <tr>\n",
       "      <th>4cat_predicted_covid</th>\n",
       "      <th></th>\n",
       "      <th></th>\n",
       "    </tr>\n",
       "  </thead>\n",
       "  <tbody>\n",
       "    <tr>\n",
       "      <th>1</th>\n",
       "      <td>72.139533</td>\n",
       "      <td>35.767635</td>\n",
       "    </tr>\n",
       "    <tr>\n",
       "      <th>2</th>\n",
       "      <td>24.515370</td>\n",
       "      <td>46.307054</td>\n",
       "    </tr>\n",
       "    <tr>\n",
       "      <th>3</th>\n",
       "      <td>1.846453</td>\n",
       "      <td>4.149378</td>\n",
       "    </tr>\n",
       "    <tr>\n",
       "      <th>4</th>\n",
       "      <td>1.498645</td>\n",
       "      <td>13.775934</td>\n",
       "    </tr>\n",
       "  </tbody>\n",
       "</table>\n",
       "</div>"
      ],
      "text/plain": [
       "swab_test                 False      True \n",
       "4cat_predicted_covid                      \n",
       "1                     72.139533  35.767635\n",
       "2                     24.515370  46.307054\n",
       "3                      1.846453   4.149378\n",
       "4                      1.498645  13.775934"
      ]
     },
     "execution_count": 35,
     "metadata": {},
     "output_type": "execute_result"
    }
   ],
   "source": [
    "results_2_df/results_2_df.sum()*100"
   ]
  },
  {
   "cell_type": "code",
   "execution_count": null,
   "metadata": {},
   "outputs": [],
   "source": []
  },
  {
   "cell_type": "markdown",
   "metadata": {},
   "source": [
    "## 72 hours predictions"
   ]
  },
  {
   "cell_type": "code",
   "execution_count": 36,
   "metadata": {},
   "outputs": [],
   "source": [
    "N = 3"
   ]
  },
  {
   "cell_type": "code",
   "execution_count": 37,
   "metadata": {},
   "outputs": [],
   "source": [
    "three_days_test_df = test_df.groupby('patient_id').filter(lambda x: len(x)==N).reset_index(drop=True)"
   ]
  },
  {
   "cell_type": "code",
   "execution_count": 38,
   "metadata": {},
   "outputs": [],
   "source": [
    "clf, idx_optimal, idx_high_sens, idx_high_spec, thresholds, fpr, tpr, FEATURES, ALL_SYMPTOMS, PAT_FEATURES = load('./Grouped_RF_3_12_05.joblib')"
   ]
  },
  {
   "cell_type": "code",
   "execution_count": 39,
   "metadata": {},
   "outputs": [],
   "source": [
    "grouped_test_df = pd.concat([three_days_test_df.groupby('patient_id')[ALL_SYMPTOMS].agg(lambda x:x.sum()/N),\n",
    "                             three_days_test_df.groupby('patient_id')[PAT_FEATURES+TARGET].mean()], axis=1).reset_index(drop=True)"
   ]
  },
  {
   "cell_type": "code",
   "execution_count": null,
   "metadata": {},
   "outputs": [],
   "source": []
  },
  {
   "cell_type": "code",
   "execution_count": 40,
   "metadata": {},
   "outputs": [],
   "source": [
    "auc_vals = []\n",
    "sens_vals = []\n",
    "spec_vals = []\n",
    "cl_types = []\n",
    "res_list = []\n",
    "\n",
    "for r in range(REPS):\n",
    "    \n",
    "    ids = resample(grouped_test_df.index.unique())\n",
    "    X_test = grouped_test_df.loc[grouped_test_df.index.isin(ids), FEATURES]\n",
    "    y_test = grouped_test_df.loc[grouped_test_df.index.isin(ids), TARGET].values[:,0]\n",
    "    X_test.loc[:,'p_predicted_covid'] = clf.predict_proba(X_test.loc[:, FEATURES])[:,1]\n",
    "\n",
    "    for cl_type, idx in zip(['optimal','high sensitivity', 'high specificity'], [idx_optimal, idx_high_sens, idx_high_spec]):\n",
    "        \n",
    "        X_test.loc[:,'predicted_covid'] = X_test.loc[:,'p_predicted_covid'] >thresholds[idx]\n",
    "        \n",
    "        predicted_covid = X_test.predicted_covid\n",
    "        p_predicted_covid = X_test.p_predicted_covid\n",
    "        true_y =  y_test\n",
    "        cl_types.append(cl_type)\n",
    "        auc_vals.append(roc_auc_score(true_y, p_predicted_covid))\n",
    "        sens_val, spec_val = sens_spec(true_y, predicted_covid)\n",
    "        sens_vals.append(sens_val)\n",
    "        spec_vals.append(spec_val)\n",
    "    \n",
    "    X_test.loc[:,'4cat_predicted_covid'] = list(map(lambda x: mapping(x), X_test.loc[:,'p_predicted_covid']))\n",
    "    aux_df = pd.concat([X_test.reset_index(drop=True), pd.DataFrame(y_test,columns=['swab_test'])], axis=1)\n",
    "    res_list.append(aux_df.groupby(['4cat_predicted_covid','swab_test']).size().reset_index().pivot_table(index='4cat_predicted_covid',columns='swab_test',values=0))\n",
    "\n",
    "\n",
    "aux_df = pd.DataFrame({'cl_type':cl_types, 'Sensitivity': sens_vals, 'Specificity': spec_vals})\n",
    "results_1_df = aux_df.groupby(['cl_type'])[['Sensitivity','Specificity']].agg(['mean','std']).reset_index()\n",
    "results_2_df = pd.concat(res_list, axis=0).groupby('4cat_predicted_covid').mean()"
   ]
  },
  {
   "cell_type": "code",
   "execution_count": 41,
   "metadata": {},
   "outputs": [
    {
     "data": {
      "text/html": [
       "<div>\n",
       "<style scoped>\n",
       "    .dataframe tbody tr th:only-of-type {\n",
       "        vertical-align: middle;\n",
       "    }\n",
       "\n",
       "    .dataframe tbody tr th {\n",
       "        vertical-align: top;\n",
       "    }\n",
       "\n",
       "    .dataframe thead tr th {\n",
       "        text-align: left;\n",
       "    }\n",
       "</style>\n",
       "<table border=\"1\" class=\"dataframe\">\n",
       "  <thead>\n",
       "    <tr>\n",
       "      <th></th>\n",
       "      <th>cl_type</th>\n",
       "      <th colspan=\"2\" halign=\"left\">Sensitivity</th>\n",
       "      <th colspan=\"2\" halign=\"left\">Specificity</th>\n",
       "    </tr>\n",
       "    <tr>\n",
       "      <th></th>\n",
       "      <th></th>\n",
       "      <th>mean</th>\n",
       "      <th>std</th>\n",
       "      <th>mean</th>\n",
       "      <th>std</th>\n",
       "    </tr>\n",
       "  </thead>\n",
       "  <tbody>\n",
       "    <tr>\n",
       "      <th>0</th>\n",
       "      <td>high sensitivity</td>\n",
       "      <td>0.538742</td>\n",
       "      <td>0.042474</td>\n",
       "      <td>0.742903</td>\n",
       "      <td>0.005061</td>\n",
       "    </tr>\n",
       "    <tr>\n",
       "      <th>1</th>\n",
       "      <td>high specificity</td>\n",
       "      <td>0.113310</td>\n",
       "      <td>0.021265</td>\n",
       "      <td>0.980620</td>\n",
       "      <td>0.001701</td>\n",
       "    </tr>\n",
       "    <tr>\n",
       "      <th>2</th>\n",
       "      <td>optimal</td>\n",
       "      <td>0.225574</td>\n",
       "      <td>0.031402</td>\n",
       "      <td>0.958785</td>\n",
       "      <td>0.002429</td>\n",
       "    </tr>\n",
       "  </tbody>\n",
       "</table>\n",
       "</div>"
      ],
      "text/plain": [
       "            cl_type Sensitivity           Specificity          \n",
       "                           mean       std        mean       std\n",
       "0  high sensitivity    0.538742  0.042474    0.742903  0.005061\n",
       "1  high specificity    0.113310  0.021265    0.980620  0.001701\n",
       "2           optimal    0.225574  0.031402    0.958785  0.002429"
      ]
     },
     "execution_count": 41,
     "metadata": {},
     "output_type": "execute_result"
    }
   ],
   "source": [
    "results_1_df"
   ]
  },
  {
   "cell_type": "code",
   "execution_count": 42,
   "metadata": {},
   "outputs": [
    {
     "data": {
      "text/html": [
       "<div>\n",
       "<style scoped>\n",
       "    .dataframe tbody tr th:only-of-type {\n",
       "        vertical-align: middle;\n",
       "    }\n",
       "\n",
       "    .dataframe tbody tr th {\n",
       "        vertical-align: top;\n",
       "    }\n",
       "\n",
       "    .dataframe thead th {\n",
       "        text-align: right;\n",
       "    }\n",
       "</style>\n",
       "<table border=\"1\" class=\"dataframe\">\n",
       "  <thead>\n",
       "    <tr style=\"text-align: right;\">\n",
       "      <th>swab_test</th>\n",
       "      <th>False</th>\n",
       "      <th>True</th>\n",
       "    </tr>\n",
       "    <tr>\n",
       "      <th>4cat_predicted_covid</th>\n",
       "      <th></th>\n",
       "      <th></th>\n",
       "    </tr>\n",
       "  </thead>\n",
       "  <tbody>\n",
       "    <tr>\n",
       "      <th>1</th>\n",
       "      <td>72.006586</td>\n",
       "      <td>1.418853</td>\n",
       "    </tr>\n",
       "    <tr>\n",
       "      <th>2</th>\n",
       "      <td>20.924002</td>\n",
       "      <td>0.961434</td>\n",
       "    </tr>\n",
       "    <tr>\n",
       "      <th>3</th>\n",
       "      <td>2.116242</td>\n",
       "      <td>0.345588</td>\n",
       "    </tr>\n",
       "    <tr>\n",
       "      <th>4</th>\n",
       "      <td>1.878601</td>\n",
       "      <td>0.348695</td>\n",
       "    </tr>\n",
       "  </tbody>\n",
       "</table>\n",
       "</div>"
      ],
      "text/plain": [
       "swab_test                 False     True \n",
       "4cat_predicted_covid                     \n",
       "1                     72.006586  1.418853\n",
       "2                     20.924002  0.961434\n",
       "3                      2.116242  0.345588\n",
       "4                      1.878601  0.348695"
      ]
     },
     "execution_count": 42,
     "metadata": {},
     "output_type": "execute_result"
    }
   ],
   "source": [
    "results_2_df/results_2_df.sum().sum()*100"
   ]
  },
  {
   "cell_type": "code",
   "execution_count": 43,
   "metadata": {},
   "outputs": [
    {
     "data": {
      "text/html": [
       "<div>\n",
       "<style scoped>\n",
       "    .dataframe tbody tr th:only-of-type {\n",
       "        vertical-align: middle;\n",
       "    }\n",
       "\n",
       "    .dataframe tbody tr th {\n",
       "        vertical-align: top;\n",
       "    }\n",
       "\n",
       "    .dataframe thead th {\n",
       "        text-align: right;\n",
       "    }\n",
       "</style>\n",
       "<table border=\"1\" class=\"dataframe\">\n",
       "  <thead>\n",
       "    <tr style=\"text-align: right;\">\n",
       "      <th>swab_test</th>\n",
       "      <th>False</th>\n",
       "      <th>True</th>\n",
       "    </tr>\n",
       "    <tr>\n",
       "      <th>4cat_predicted_covid</th>\n",
       "      <th></th>\n",
       "      <th></th>\n",
       "    </tr>\n",
       "  </thead>\n",
       "  <tbody>\n",
       "    <tr>\n",
       "      <th>1</th>\n",
       "      <td>74.290705</td>\n",
       "      <td>46.148017</td>\n",
       "    </tr>\n",
       "    <tr>\n",
       "      <th>2</th>\n",
       "      <td>21.587731</td>\n",
       "      <td>31.270523</td>\n",
       "    </tr>\n",
       "    <tr>\n",
       "      <th>3</th>\n",
       "      <td>2.183371</td>\n",
       "      <td>11.240212</td>\n",
       "    </tr>\n",
       "    <tr>\n",
       "      <th>4</th>\n",
       "      <td>1.938193</td>\n",
       "      <td>11.341248</td>\n",
       "    </tr>\n",
       "  </tbody>\n",
       "</table>\n",
       "</div>"
      ],
      "text/plain": [
       "swab_test                 False      True \n",
       "4cat_predicted_covid                      \n",
       "1                     74.290705  46.148017\n",
       "2                     21.587731  31.270523\n",
       "3                      2.183371  11.240212\n",
       "4                      1.938193  11.341248"
      ]
     },
     "execution_count": 43,
     "metadata": {},
     "output_type": "execute_result"
    }
   ],
   "source": [
    "results_2_df/results_2_df.sum()*100"
   ]
  },
  {
   "cell_type": "code",
   "execution_count": null,
   "metadata": {},
   "outputs": [],
   "source": []
  }
 ],
 "metadata": {
  "kernelspec": {
   "display_name": "covid-venv",
   "language": "python",
   "name": "covid-venv"
  },
  "language_info": {
   "codemirror_mode": {
    "name": "ipython",
    "version": 3
   },
   "file_extension": ".py",
   "mimetype": "text/x-python",
   "name": "python",
   "nbconvert_exporter": "python",
   "pygments_lexer": "ipython3",
   "version": "3.7.7"
  }
 },
 "nbformat": 4,
 "nbformat_minor": 4
}
